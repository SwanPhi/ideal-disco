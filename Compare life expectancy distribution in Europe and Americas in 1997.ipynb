{
 "cells": [
  {
   "cell_type": "code",
   "execution_count": 29,
   "metadata": {},
   "outputs": [
    {
     "name": "stdout",
     "output_type": "stream",
     "text": [
      "30\n",
      "25\n",
      "Mean of Life Expectancy in Europe\n",
      "75.50516666666667\n",
      "Mean of Life Expectancy in Americas\n",
      "71.15048\n",
      "Median of Life Expectancy in Europe\n",
      "76.116\n",
      "Median of Life Expectancy in Americas\n",
      "72.146\n"
     ]
    }
   ],
   "source": [
    "\n",
    "import pandas as pd\n",
    "from matplotlib import pyplot as plt\n",
    "data = pd.read_csv('countries_1.csv')\n",
    "data_1997 = data[data.year == 1997]\n",
    "europe_data = data_1997[data_1997.continent == 'Europe']\n",
    "americas_data = data_1997[data_1997.continent == 'Americas']\n",
    "print(len(set(europe_data.country)))\n",
    "print(len(set(americas_data.country)))\n",
    "print('Mean of Life Expectancy in Europe')\n",
    "print(europe_data.lifeExpectancy.mean())\n",
    "print('Mean of Life Expectancy in Americas')\n",
    "print(americas_data.lifeExpectancy.mean())\n",
    "print('Median of Life Expectancy in Europe')\n",
    "print(europe_data.lifeExpectancy.median())\n",
    "print('Median of Life Expectancy in Americas')\n",
    "print(americas_data.lifeExpectancy.median())"
   ]
  },
  {
   "cell_type": "code",
   "execution_count": 36,
   "metadata": {},
   "outputs": [
    {
     "data": {
      "image/png": "[encoded data removed]",
      "text/plain": [
       "<Figure size 432x288 with 2 Axes>"
      ]
     },
     "metadata": {
      "needs_background": "light"
     },
     "output_type": "display_data"
    }
   ],
   "source": [
    "#plt.title('Life Expectancy Distribution in Europe and Americas')\n",
    "#print(europe_data.lifeExpectancy)\n",
    "bins = 20\n",
    "plt.subplot(2, 1, 1)\n",
    "plt.ylabel('Europe')\n",
    "plt.hist(europe_data.lifeExpectancy, bins, range = (55, 85), edgecolor = 'red')\n",
    "plt.subplot(2, 1, 2)\n",
    "plt.ylabel('Americas')\n",
    "plt.hist(americas_data.lifeExpectancy, bins, range = (55, 85), edgecolor = 'red')\n",
    "plt.show()"
   ]
  },
  {
   "cell_type": "code",
   "execution_count": 34,
   "metadata": {},
   "outputs": [
    {
     "data": {
      "text/html": [
       "<div>\n",
       "<style scoped>\n",
       "    .dataframe tbody tr th:only-of-type {\n",
       "        vertical-align: middle;\n",
       "    }\n",
       "\n",
       "    .dataframe tbody tr th {\n",
       "        vertical-align: top;\n",
       "    }\n",
       "\n",
       "    .dataframe thead th {\n",
       "        text-align: right;\n",
       "    }\n",
       "</style>\n",
       "<table border=\"1\" class=\"dataframe\">\n",
       "  <thead>\n",
       "    <tr style=\"text-align: right;\">\n",
       "      <th></th>\n",
       "      <th>country</th>\n",
       "      <th>continent</th>\n",
       "      <th>year</th>\n",
       "      <th>lifeExpectancy</th>\n",
       "      <th>population</th>\n",
       "      <th>gdpPerCapita</th>\n",
       "    </tr>\n",
       "  </thead>\n",
       "  <tbody>\n",
       "    <tr>\n",
       "      <th>141</th>\n",
       "      <td>Bolivia</td>\n",
       "      <td>Americas</td>\n",
       "      <td>1997</td>\n",
       "      <td>62.050</td>\n",
       "      <td>7693188</td>\n",
       "      <td>3326.143191</td>\n",
       "    </tr>\n",
       "    <tr>\n",
       "      <th>645</th>\n",
       "      <td>Haiti</td>\n",
       "      <td>Americas</td>\n",
       "      <td>1997</td>\n",
       "      <td>56.671</td>\n",
       "      <td>6913545</td>\n",
       "      <td>1341.726931</td>\n",
       "    </tr>\n",
       "  </tbody>\n",
       "</table>\n",
       "</div>"
      ],
      "text/plain": [
       "     country continent  year  lifeExpectancy  population  gdpPerCapita\n",
       "141  Bolivia  Americas  1997          62.050     7693188   3326.143191\n",
       "645    Haiti  Americas  1997          56.671     6913545   1341.726931"
      ]
     },
     "execution_count": 34,
     "metadata": {},
     "output_type": "execute_result"
    }
   ],
   "source": [
    "americas_data[americas_data.lifeExpectancy < 65]"
   ]
  },
  {
   "cell_type": "code",
   "execution_count": null,
   "metadata": {},
   "outputs": [],
   "source": []
  }
 ],
 "metadata": {
  "kernelspec": {
   "display_name": "Python 3",
   "language": "python",
   "name": "python3"
  },
  "language_info": {
   "codemirror_mode": {
    "name": "ipython",
    "version": 3
   },
   "file_extension": ".py",
   "mimetype": "text/x-python",
   "name": "python",
   "nbconvert_exporter": "python",
   "pygments_lexer": "ipython3",
   "version": "3.7.3"
  }
 },
 "nbformat": 4,
 "nbformat_minor": 2
}
